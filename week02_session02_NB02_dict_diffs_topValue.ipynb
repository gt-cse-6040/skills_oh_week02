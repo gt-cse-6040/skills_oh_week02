{
  "cells": [
    {
      "cell_type": "markdown",
      "metadata": {
        "id": "view-in-github",
        "colab_type": "text"
      },
      "source": [
        "<a href=\"https://colab.research.google.com/github/gt-cse-6040/skills_oh_week_02/blob/main/week02_session02_NB02_dict_diffs_topValue.ipynb\" target=\"_parent\"><img src=\"https://colab.research.google.com/assets/colab-badge.svg\" alt=\"Open In Colab\"/></a>"
      ]
    },
    {
      "cell_type": "markdown",
      "metadata": {
        "id": "CRbFpZxEkduw"
      },
      "source": [
        "_Main topics covered during today's session:_\n",
        "\n",
        "Prior NB:\n",
        "\n",
        "1. **Counting values in a dictionary**\n",
        "    \n",
        "    \n",
        "This NB:\n",
        "\n",
        "2. **Comparing dictionaries, and finding the highest/lowest value.**\n",
        "\n",
        "\n",
        "Following NBs:\n",
        "\n",
        "3. **Inverting a dictionary**\n",
        "\n",
        "4. **Teaser -- Floating point values**"
      ]
    },
    {
      "cell_type": "markdown",
      "metadata": {
        "id": "Ut0gwZgXkduz"
      },
      "source": [
        "# Comparing dictionaries and finding the highest/lowest values.\n",
        "\n",
        "### This notebook was part of MT1 in the first iteration of CSE6040, when the MT's were a number of smaller and independent notebooks.\n",
        "\n",
        "#### We will be doing Exercises 1 and 2, to demonstrate comparing two dictionaries and finding the highest/lowest value in a dictionary."
      ]
    },
    {
      "cell_type": "markdown",
      "metadata": {
        "nbgrader": {
          "grade": false,
          "locked": false,
          "solution": false
        },
        "id": "Mafc4siykduz"
      },
      "source": [
        "# Problem 7\n",
        "\n",
        "**Letter frequencies.** This problem has three (3) exercises worth a total of ten (10) points."
      ]
    },
    {
      "cell_type": "markdown",
      "metadata": {
        "id": "SnIXsIKpkdu0"
      },
      "source": [
        "Letter frequency in text has been studied in cryptoanalysis, in particular frequency analysis. Linguists use letter frequency analysis as a rudimentary technique for language identification, where it's particularly effective as an indicator of whether an unknown writing system is alphabetic, syllablic, or ideographic.\n",
        "\n",
        "Primarily, three different ways exist for letter frequency analysis. Each way generally results in very different charts for common letters. Based on the provided text, the first method is to count letter frequency in root words of a dictionary. The second way is to include all word variants when counting, such as gone, going and goes and not just the root word go. Such a system results in letters like \"s\" appearing much more frequently. The last variant is to count letters based on their frequency in the actual text that is being studied. \n",
        "\n",
        "For more details, refer to the link: \n",
        "https://en.wikipedia.org/wiki/Letter_frequency\n",
        "\n",
        "In this problem, we will focus on the 3rd methodology."
      ]
    },
    {
      "cell_type": "markdown",
      "metadata": {
        "id": "onR5fQGrkdu0"
      },
      "source": [
        "**Exercise 0** (2 points). First, given a string input, define a function  `preprocess` that returns a string with non-alphabetic characters removed and all the alphabets converted into a lower case. \n",
        "\n",
        "For example, 'We are coding letter Frequency! Yay!\" would be transformed into \"wearecodingletterfrequencyyay\""
      ]
    },
    {
      "cell_type": "code",
      "execution_count": null,
      "metadata": {
        "id": "SB_sHsyCkdu0"
      },
      "outputs": [],
      "source": [
        "def preprocess(S):\n",
        "    ###\n",
        "    ### YOUR CODE HERE\n",
        "    ###\n",
        "\n",
        "    ret_string = ''\n",
        "    for i in S:\n",
        "        if i.isalpha():\n",
        "            ret_string = ret_string + i\n",
        "    \n",
        "    ret_string = ret_string.lower()\n",
        "    return ret_string\n"
      ]
    },
    {
      "cell_type": "code",
      "execution_count": null,
      "metadata": {
        "deletable": false,
        "editable": false,
        "nbgrader": {
          "grade": true,
          "grade_id": "valid_string",
          "locked": true,
          "points": "2",
          "solution": false
        },
        "id": "8890a7yhkdu2"
      },
      "outputs": [],
      "source": [
        "# Test cell: valid_string\n",
        "import random, string\n",
        "\n",
        "N_str = 100 #Length of random string\n",
        "\n",
        "def generate_str(n):\n",
        "    random_str = ''.join(random.choice(string.ascii_lowercase + string.ascii_uppercase + string.digits + string.punctuation) for _ in range(n))\n",
        "    return random_str\n",
        "\n",
        "def check_preprocess_str(n):\n",
        "    random_str = generate_str(n)\n",
        "    print(\"Input String: \",random_str)\n",
        "    assert preprocess(random_str).islower() == True\n",
        "    assert preprocess(random_str).isalpha() == True\n",
        "    print(\"|----Your function seems to work correct for the string----|\"+\"\\n\")\n",
        "\n",
        "check_preprocess_str(N_str)\n",
        "check_preprocess_str(N_str)\n",
        "check_preprocess_str(N_str)\n",
        "\n",
        "print(\"\\n(Passed)!\")"
      ]
    },
    {
      "cell_type": "markdown",
      "metadata": {
        "id": "Hq4ihWjSkdu2"
      },
      "source": [
        "**Exercise 1** (4 points). With the necessary pre-processing complete, the next step is to write a function `count_letters(S)` to count the number of occurrences of each letter in the alphabet.  \n",
        "\n",
        "You can assume that only letters will be present in the input string. It should output a dictionary and if any alphabet (a-z) is missing in the input string, it should still be a part of the output dictionary and its corresponding value should be equal to zero.\n"
      ]
    },
    {
      "cell_type": "code",
      "execution_count": null,
      "metadata": {
        "id": "Ax4hVBkBkdu3"
      },
      "outputs": [],
      "source": [
        "def count_letters(S):\n",
        "    ###\n",
        "    ### YOUR CODE HERE\n",
        "    ###\n",
        "\n",
        "    # Larry's code, not the sample solution\n",
        "    import string\n",
        "    # create dictionary of letters with 0 values\n",
        "    alphabet = dict.fromkeys(string.ascii_lowercase, 0)\n",
        "#     print(alphabet)\n",
        "    \n",
        "    # get the letters and their count from the input word S\n",
        "    from collections import Counter\n",
        "    count = Counter(S)\n",
        "#     print(count)\n",
        "    \n",
        "    # compare the two dictionaries and add the letters that\n",
        "    # are not in the count dictionary\n",
        "    for key,value in alphabet.items(): \n",
        "        if not key in count:\n",
        "            count.update({key:value})\n",
        "            \n",
        "    return count      \n",
        "            \n",
        "# https://stackoverflow.com/questions/453576/is-there-a-fast-way-to-generate-a-dict-of-the-alphabet-in-python\n",
        "# https://www.geeksforgeeks.org/python-difference-in-keys-of-two-dictionaries/\n",
        "\n",
        "\n",
        "#count_letters('abcdef')"
      ]
    },
    {
      "cell_type": "code",
      "execution_count": null,
      "metadata": {
        "deletable": false,
        "editable": false,
        "nbgrader": {
          "grade": true,
          "grade_id": "count_letters",
          "locked": true,
          "points": "4",
          "solution": false
        },
        "scrolled": true,
        "id": "kcX_lHdRkdu3"
      },
      "outputs": [],
      "source": [
        "# Test cell: count_letters\n",
        "import collections\n",
        "\n",
        "N_processed_str = 100\n",
        "\n",
        "def generate_processed_str(n):\n",
        "    random_processed_str = ''.join(random.choice(string.ascii_lowercase) for _ in range(n))\n",
        "    return random_processed_str\n",
        "\n",
        "def check_count_letters(S):\n",
        "    print(\"Input String: \",S)\n",
        "    random_char = chr(random.randint(97,122))\n",
        "    print(\"Character frequency evaluated for: \", random_char)\n",
        "    if(random_char in S):\n",
        "        assert count_letters(S)[random_char] == collections.Counter(S)[random_char]\n",
        "        print(\"|----Your function seems to return correct freq for the char----|\"+\"\\n\")\n",
        "    else:\n",
        "        assert count_letters(S)[random_char] == 0\n",
        "        print(\"|----Your function seems to return correct freq for the char----|\"+\"\\n\")\n",
        "        \n",
        "check_count_letters(generate_processed_str(N_processed_str))\n",
        "check_count_letters(generate_processed_str(N_processed_str))\n",
        "check_count_letters(generate_processed_str(N_processed_str))\n",
        "print(\"\\n(Passed)!\")"
      ]
    },
    {
      "cell_type": "markdown",
      "metadata": {
        "id": "rUW6TyNtkdu4"
      },
      "source": [
        "**Exercise 2** (4 points). The next step is to sort the distribution of a dictionary containing all the letters in the alphabet as keys and number of occurrences in text as associated value. \n",
        "\n",
        "Sorting should be first done in decreasing order by occurrence count and for two elements with same count, the order should be alphabetic. The function  `find_top_letter(d)` should return the 1st character in the order."
      ]
    },
    {
      "cell_type": "code",
      "execution_count": null,
      "metadata": {
        "id": "xBPFseObkdu4"
      },
      "outputs": [],
      "source": [
        "def find_top_letter(d):\n",
        "    ###\n",
        "    ### YOUR CODE HERE\n",
        "    ###\n",
        "\n",
        "    # Larry's code, not the sample solution\n",
        "    sort_list = sorted(d.items(), key = lambda kv:(-kv[1], kv[0]))\n",
        "    #print(sort_list)\n",
        "    return sort_list[0][0]\n",
        "    \n",
        "'''\n",
        "https://stackoverflow.com/questions/15371691/how-to-sort-a-dictionary-by-value-desc-then-by-key-asc\n",
        "\n",
        "\n",
        "'''\n",
        "find_top_letter(count_letters('accccdeffffbbbb'))"
      ]
    },
    {
      "cell_type": "code",
      "execution_count": null,
      "metadata": {
        "deletable": false,
        "editable": false,
        "nbgrader": {
          "grade": true,
          "grade_id": "highest_freq_letter",
          "locked": true,
          "points": "4",
          "solution": false
        },
        "scrolled": true,
        "id": "HRpL6EEbkdu4"
      },
      "outputs": [],
      "source": [
        "# Test cell: highest_freq_letter\n",
        "\n",
        "def create_random_dict():\n",
        "    max_char_value = random.randint(5, 20)\n",
        "    random_dict = {c:random.randint(0,max_char_value-1) for c in string.ascii_lowercase}\n",
        "    random_letter1, random_letter2 = random.sample(string.ascii_lowercase, 2)\n",
        "    random_dict[random_letter1], random_dict[random_letter2] = max_char_value, max_char_value\n",
        "    if(random_letter1 < random_letter2):\n",
        "        return random_letter1, random_dict\n",
        "    else:\n",
        "        return random_letter2, random_dict\n",
        "\n",
        "def check_top_letter():\n",
        "    top_letter, random_dict = create_random_dict()\n",
        "    user_letter = find_top_letter(random_dict)\n",
        "    assert user_letter == top_letter\n",
        "    print(\"Input Dictionary: \", random_dict)\n",
        "    print(\"Your function correctly returned most frequent letter: {} \\n\".format(user_letter))\n",
        "    \n",
        "check_top_letter()\n",
        "check_top_letter()\n",
        "check_top_letter()\n",
        "print(\"\\n(Passed)!\")"
      ]
    },
    {
      "cell_type": "markdown",
      "metadata": {
        "id": "7FvJJgLCkdu5"
      },
      "source": [
        "**Fin!** You've reached the end of this problem. Don't forget to restart the kernel and run the entire notebook from top-to-bottom to make sure you did everything correctly. If that is working, try submitting this problem. (Recall that you *must* submit and pass the autograder to get credit for your work!)"
      ]
    }
  ],
  "metadata": {
    "kernelspec": {
      "display_name": "Python 3 (ipykernel)",
      "language": "python",
      "name": "python3"
    },
    "language_info": {
      "codemirror_mode": {
        "name": "ipython",
        "version": 3
      },
      "file_extension": ".py",
      "mimetype": "text/x-python",
      "name": "python",
      "nbconvert_exporter": "python",
      "pygments_lexer": "ipython3",
      "version": "3.9.13"
    },
    "colab": {
      "provenance": [],
      "include_colab_link": true
    }
  },
  "nbformat": 4,
  "nbformat_minor": 0
}