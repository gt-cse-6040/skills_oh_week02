{
 "cells": [
  {
   "cell_type": "markdown",
   "id": "daf98253",
   "metadata": {},
   "source": [
    "_Main topics covered during today's session:_\n",
    "\n",
    "Prior NBs:\n",
    "\n",
    "1. **Intro to Dictionaries**\n",
    "\n",
    "2. **Default Dictionaries and Counter dictionaries**\n",
    "    \n",
    "    \n",
    "This NB:\n",
    "\n",
    "3. **Some example dictionary use cases**\n"
   ]
  },
  {
   "cell_type": "markdown",
   "id": "f94cf4ad",
   "metadata": {},
   "source": [
    "# Some defaultdict Use Cases"
   ]
  },
  {
   "cell_type": "markdown",
   "id": "dac78b8e",
   "metadata": {},
   "source": [
    "We are not going to review these in detail, but this notebook is for you to go through on your own."
   ]
  },
  {
   "cell_type": "code",
   "execution_count": null,
   "id": "0ba4b4da",
   "metadata": {},
   "outputs": [],
   "source": [
    "from collections import defaultdict"
   ]
  },
  {
   "cell_type": "markdown",
   "id": "880058a5",
   "metadata": {},
   "source": [
    "### Grouping Unique Items"
   ]
  },
  {
   "cell_type": "markdown",
   "id": "ac149ae7",
   "metadata": {},
   "source": [
    "### Create a dictionary with department as keys and people working in them as values"
   ]
  },
  {
   "cell_type": "code",
   "execution_count": null,
   "id": "4d3cb81e",
   "metadata": {},
   "outputs": [],
   "source": [
    "dep = [('Sales', 'John Doe'),\n",
    "       ('Sales', 'Martin Smith'),\n",
    "       ('Accounting', 'Jane Doe'),\n",
    "       ('Marketing', 'Elizabeth Smith'),\n",
    "       ('Marketing', 'Elizabeth Smith'),\n",
    "       ('Marketing', 'Adam Doe'),\n",
    "       ('Marketing', 'Adam Doe'),\n",
    "       ('Marketing', 'Adam Doe')]"
   ]
  },
  {
   "cell_type": "code",
   "execution_count": null,
   "id": "57dfb2c4",
   "metadata": {},
   "outputs": [],
   "source": [
    "dep_dd = defaultdict(set)\n",
    "for department, employee in dep:\n",
    "    dep_dd[department].add(employee)\n",
    "dep_dd"
   ]
  },
  {
   "cell_type": "code",
   "execution_count": null,
   "id": "67c9b3df",
   "metadata": {},
   "outputs": [],
   "source": [
    "dict(dep_dd)"
   ]
  },
  {
   "cell_type": "markdown",
   "id": "11e1ffaf",
   "metadata": {},
   "source": [
    "### Counting Items"
   ]
  },
  {
   "cell_type": "markdown",
   "id": "311a448a",
   "metadata": {},
   "source": [
    "### Find how many people are there in each department.\n",
    "\n",
    "**Remember that you can also use a Counter() object for this use case.**"
   ]
  },
  {
   "cell_type": "code",
   "execution_count": null,
   "id": "f5ad45cb",
   "metadata": {},
   "outputs": [],
   "source": [
    "\n",
    "dep = [('Sales', 'John Doe'),\n",
    "        ('Sales', 'Martin Smith'),\n",
    "        ('Accounting', 'Jane Doe'),\n",
    "        ('Marketing', 'Elizabeth Smith'),\n",
    "        ('Marketing', 'Adam Doe')]\n",
    "dd = defaultdict(int)\n",
    "for department, _ in dep:\n",
    "     dd[department] += 1\n",
    "dd"
   ]
  },
  {
   "cell_type": "code",
   "execution_count": null,
   "id": "528bf171",
   "metadata": {},
   "outputs": [],
   "source": [
    "dict(dd)"
   ]
  },
  {
   "cell_type": "code",
   "execution_count": null,
   "id": "f863dfeb",
   "metadata": {},
   "outputs": [],
   "source": [
    "s = 'mississippi'\n",
    "dd_s = defaultdict(int)\n",
    "for letter in s:\n",
    "    dd_s[letter] += 1\n",
    "dd_s"
   ]
  },
  {
   "cell_type": "code",
   "execution_count": null,
   "id": "96d99d9d",
   "metadata": {},
   "outputs": [],
   "source": [
    "dict(dd_s)"
   ]
  },
  {
   "cell_type": "markdown",
   "id": "466bf1b7",
   "metadata": {},
   "source": [
    "### Accumulating Values"
   ]
  },
  {
   "cell_type": "markdown",
   "id": "98fe8ddf",
   "metadata": {},
   "source": [
    "### Find total income for each product"
   ]
  },
  {
   "cell_type": "code",
   "execution_count": null,
   "id": "c45b5343",
   "metadata": {},
   "outputs": [],
   "source": [
    "incomes = [('Books', 1250.00),\n",
    "           ('Books', 1300.00),\n",
    "           ('Books', 1420.00),\n",
    "           ('Tutorials', 560.00),\n",
    "           ('Tutorials', 630.00),\n",
    "           ('Tutorials', 750.00),\n",
    "           ('Courses', 2500.00),\n",
    "           ('Courses', 2430.00),\n",
    "           ('Courses', 2750.00),]"
   ]
  },
  {
   "cell_type": "code",
   "execution_count": null,
   "id": "2ff6c737",
   "metadata": {},
   "outputs": [],
   "source": [
    "dd_prod = defaultdict(float)\n",
    "for product, income in incomes:\n",
    "    dd_prod[product] += income\n",
    "\n",
    "for product, income in dd_prod.items():\n",
    "    print(f'Total income for {product}: ${income:,.2f}')"
   ]
  },
  {
   "cell_type": "code",
   "execution_count": null,
   "id": "e4923970",
   "metadata": {},
   "outputs": [],
   "source": [
    "dd_prod"
   ]
  },
  {
   "cell_type": "code",
   "execution_count": null,
   "id": "fd6df25d",
   "metadata": {},
   "outputs": [],
   "source": [
    "dict(dd_prod)"
   ]
  },
  {
   "cell_type": "code",
   "execution_count": null,
   "id": "932a47e2",
   "metadata": {},
   "outputs": [],
   "source": []
  }
 ],
 "metadata": {
  "kernelspec": {
   "display_name": "Python 3 (ipykernel)",
   "language": "python",
   "name": "python3"
  },
  "language_info": {
   "codemirror_mode": {
    "name": "ipython",
    "version": 3
   },
   "file_extension": ".py",
   "mimetype": "text/x-python",
   "name": "python",
   "nbconvert_exporter": "python",
   "pygments_lexer": "ipython3",
   "version": "3.9.13"
  }
 },
 "nbformat": 4,
 "nbformat_minor": 5
}
