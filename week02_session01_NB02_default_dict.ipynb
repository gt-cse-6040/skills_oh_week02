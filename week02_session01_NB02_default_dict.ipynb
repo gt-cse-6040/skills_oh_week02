{
 "cells": [
  {
   "cell_type": "markdown",
   "metadata": {},
   "source": [
    "_Main topics covered during today's session:_\n",
    "\n",
    "Prior NB:\n",
    "\n",
    "1. **Intro to Dictionaries**\n",
    "    \n",
    "    \n",
    "This NB:\n",
    "\n",
    "2. **Default Dictionaries and Counter dictionaries**\n",
    "\n",
    "\n",
    "Next NB:\n",
    "\n",
    "3. **Some example dictionary use cases**\n"
   ]
  },
  {
   "cell_type": "markdown",
   "metadata": {
    "slideshow": {
     "slide_type": "slide"
    }
   },
   "source": [
    "## Default dictionaries ##"
   ]
  },
  {
   "cell_type": "markdown",
   "metadata": {
    "slideshow": {
     "slide_type": "subslide"
    }
   },
   "source": [
    "The `gen_lookup` function contained an instance of a common pattern with dictionaries:\n",
    "\n",
    "```python\n",
    "    t = {}\n",
    "    for i in ...:\n",
    "        if i not in t:\n",
    "            t[i] = 0\n",
    "        t[i] += ...\n",
    "```\n",
    "\n",
    "Before accumulating `t[i]`, the code verifies that the key `i` exists. If it does not, it first creates an \"empty\" entry, initialized to zero, and then does the accumulate."
   ]
  },
  {
   "cell_type": "markdown",
   "metadata": {
    "slideshow": {
     "slide_type": "subslide"
    }
   },
   "source": [
    "**Example:** Suppose we wish to count the number of occurrences of a character in a string."
   ]
  },
  {
   "cell_type": "code",
   "execution_count": null,
   "metadata": {
    "slideshow": {
     "slide_type": "fragment"
    }
   },
   "outputs": [],
   "source": [
    "s = \"bbbaaaabaaa\""
   ]
  },
  {
   "cell_type": "markdown",
   "metadata": {
    "slideshow": {
     "slide_type": "fragment"
    }
   },
   "source": [
    "In this case, `'a'` occurs 7 times and `'b'` occurs 4 times. Let's say we want to construct a dictionary `count` such that `count['a'] == 7` and `count['b'] == 4`."
   ]
  },
  {
   "cell_type": "markdown",
   "metadata": {
    "slideshow": {
     "slide_type": "subslide"
    }
   },
   "source": [
    "The following code does _not_ work! Try uncommenting it to see:"
   ]
  },
  {
   "cell_type": "code",
   "execution_count": null,
   "metadata": {
    "slideshow": {
     "slide_type": "fragment"
    }
   },
   "outputs": [],
   "source": [
    "#count = {}\n",
    "#for c in s:\n",
    "#    count[c] += 1\n",
    "#count"
   ]
  },
  {
   "cell_type": "markdown",
   "metadata": {
    "slideshow": {
     "slide_type": "subslide"
    }
   },
   "source": [
    "Instead, we need something like the following:"
   ]
  },
  {
   "cell_type": "code",
   "execution_count": null,
   "metadata": {
    "slideshow": {
     "slide_type": "fragment"
    }
   },
   "outputs": [],
   "source": [
    "count = {}\n",
    "for c in s:\n",
    "    if c not in count:\n",
    "        count[c] = 0\n",
    "    assert c in count\n",
    "    count[c] += 1\n",
    "count"
   ]
  },
  {
   "cell_type": "markdown",
   "metadata": {},
   "source": [
    "Or something like this, using the Harry Potter example from the previous notebook: \n",
    "\n",
    "**Note that we have added these cells, they are not in the video.**"
   ]
  },
  {
   "cell_type": "code",
   "execution_count": null,
   "metadata": {},
   "outputs": [],
   "source": [
    "harry_potter_dict = {\n",
    "    \"Harry Potter\": \"Gryffindor\",\n",
    "    \"Ron Weasley\": \"Gryffindor\",\n",
    "    \"Hermione Granger\": \"Gryffindor\",\n",
    "    \"Albus Dumbledore\": \"Gryffindor\",\n",
    "    \"Luna Lovegood\": \"Ravenclaw\",\n",
    "    \"Draco Malfoy\": \"Slytherin\",\n",
    "    \"Cedric Diggory\": \"Hufflepuff\"\n",
    "}\n",
    "\n",
    "house_count_dict = {}\n",
    "\n",
    "for character,house in harry_potter_dict.items():\n",
    "    if(house not in house_count_dict.keys()):\n",
    "        house_count_dict[house] = 1\n",
    "    else:\n",
    "        house_count_dict[house] += 1\n",
    "        \n",
    "house_count_dict"
   ]
  },
  {
   "cell_type": "markdown",
   "metadata": {
    "slideshow": {
     "slide_type": "subslide"
    }
   },
   "source": [
    "Default dictionaries give us a way to simplify this code:"
   ]
  },
  {
   "cell_type": "code",
   "execution_count": null,
   "metadata": {
    "slideshow": {
     "slide_type": "fragment"
    }
   },
   "outputs": [],
   "source": [
    "from collections import defaultdict\n",
    "count = defaultdict(int)\n",
    "\n",
    "for c in s:\n",
    "    count[c] += 1\n",
    "count"
   ]
  },
  {
   "cell_type": "code",
   "execution_count": null,
   "metadata": {},
   "outputs": [],
   "source": [
    "print(house_count_dict)\n",
    "print(type(house_count_dict))"
   ]
  },
  {
   "cell_type": "code",
   "execution_count": null,
   "metadata": {},
   "outputs": [],
   "source": [
    "d2 = dict(house_count_dict)\n",
    "print(d2)\n",
    "print(type(d2))"
   ]
  },
  {
   "cell_type": "markdown",
   "metadata": {
    "slideshow": {
     "slide_type": "subslide"
    }
   },
   "source": [
    "**The video cells pick back up here.**\n",
    "\n",
    "The `defaultdict(...)` constructor is another example of a higher-order function: its single argument is a _function_. The function must have the property that when it is called with no inputs it produces a value as its output, where the value may be considered an initial value for nonexistent keys.\n",
    "\n",
    "For instance, recall:"
   ]
  },
  {
   "cell_type": "code",
   "execution_count": null,
   "metadata": {
    "slideshow": {
     "slide_type": "fragment"
    }
   },
   "outputs": [],
   "source": [
    "int()"
   ]
  },
  {
   "cell_type": "markdown",
   "metadata": {
    "slideshow": {
     "slide_type": "fragment"
    }
   },
   "source": [
    "Therefore, the `defaultdict(int)` object will use `int()` whenever it needs a new initial value.\n",
    "\n",
    "> The other basic built-in Python objects have a similar property. Try `float()`, `str()`, `list()`, `set()`, and even `dict()`."
   ]
  },
  {
   "cell_type": "markdown",
   "metadata": {
    "slideshow": {
     "slide_type": "subslide"
    }
   },
   "source": [
    "A major pitfall with default dictionaries is that even just referencing a key causes it to be created. Example:"
   ]
  },
  {
   "cell_type": "code",
   "execution_count": null,
   "metadata": {
    "slideshow": {
     "slide_type": "fragment"
    }
   },
   "outputs": [],
   "source": [
    "print(count)\n",
    "count['abc']  # Not doing anything here — not assigning, not using\n",
    "print(count)"
   ]
  },
  {
   "cell_type": "markdown",
   "metadata": {
    "slideshow": {
     "slide_type": "fragment"
    }
   },
   "source": [
    "That can lead to blow-ups in storage (and time!). So, do be careful not to reference keys unnecessarily."
   ]
  },
  {
   "cell_type": "markdown",
   "metadata": {},
   "source": [
    "**An alternative: `dict.get`.** Default dictionaries aren't the only way. Recall that if `d` is a dictionary, then `d.get(key, default_value)` will return `default_value` if `key` does not exist in `d`:"
   ]
  },
  {
   "cell_type": "code",
   "execution_count": null,
   "metadata": {},
   "outputs": [],
   "source": [
    "'x' in count, count.get('x', 0), count.get('a', 0)"
   ]
  },
  {
   "cell_type": "markdown",
   "metadata": {},
   "source": [
    "Thus:"
   ]
  },
  {
   "cell_type": "code",
   "execution_count": null,
   "metadata": {},
   "outputs": [],
   "source": [
    "count = {}\n",
    "for c in s:\n",
    "    count[c] = count.get(c, 0) + 1\n",
    "count"
   ]
  },
  {
   "cell_type": "markdown",
   "metadata": {},
   "source": [
    "**Exercise:** What does this code produce?"
   ]
  },
  {
   "cell_type": "code",
   "execution_count": null,
   "metadata": {},
   "outputs": [],
   "source": [
    "def default_value():\n",
    "    return -20\n",
    "\n",
    "count2 = defaultdict(default_value)\n",
    "for c in s:\n",
    "    count2[c] += 1\n",
    "count2"
   ]
  },
  {
   "cell_type": "markdown",
   "metadata": {
    "slideshow": {
     "slide_type": "subslide"
    }
   },
   "source": [
    "**Aside: Another alternative, `Counter` objects.** The `collections` module implements many useful objects and functions. One is `Counter`, which does exactly what we need in our letter-counting problem."
   ]
  },
  {
   "cell_type": "code",
   "execution_count": null,
   "metadata": {
    "slideshow": {
     "slide_type": "fragment"
    }
   },
   "outputs": [],
   "source": [
    "from collections import Counter\n",
    "Counter(s)"
   ]
  },
  {
   "cell_type": "code",
   "execution_count": null,
   "metadata": {
    "slideshow": {
     "slide_type": "fragment"
    }
   },
   "outputs": [],
   "source": [
    "isinstance(Counter(s), dict)"
   ]
  },
  {
   "cell_type": "markdown",
   "metadata": {},
   "source": [
    "Although `Counter` constructs a special object of that type, in fact, it is derived from a dictionary so it can be used as such."
   ]
  },
  {
   "cell_type": "markdown",
   "metadata": {},
   "source": [
    "**The below cells are added, and not in the video.**\n",
    "\n",
    "Note also that with the Counter object, you have the same reference behavior as above, in which simply referencing a non-existent key causes it to be created."
   ]
  },
  {
   "cell_type": "code",
   "execution_count": null,
   "metadata": {
    "slideshow": {
     "slide_type": "slide"
    }
   },
   "outputs": [],
   "source": [
    "c = Counter('extremely')\n",
    "print(c)\n",
    "c['z'] = 0\n",
    "print (c)"
   ]
  },
  {
   "cell_type": "code",
   "execution_count": null,
   "metadata": {},
   "outputs": [],
   "source": [
    "c = Counter()\n",
    "print ('Initial :', c)\n",
    "\n",
    "c.update('abcdaab')\n",
    "print ('Sequence:', c)\n",
    "\n",
    "# The count values are increased based on the new data, rather than replaced. \n",
    "# Note that this behavior is different from a regular dictionary, in which the\n",
    "# values are replaced/overwritten.\n",
    "c.update({'a':1, 'd':5})\n",
    "print ('Dict    :', c)"
   ]
  },
  {
   "cell_type": "code",
   "execution_count": null,
   "metadata": {},
   "outputs": [],
   "source": [
    "# Items of Counter\n",
    "for k, v in c.items():\n",
    "    print((k, v))"
   ]
  },
  {
   "cell_type": "code",
   "execution_count": null,
   "metadata": {},
   "outputs": [],
   "source": [
    "# Keys of Counter\n",
    "for k in c.keys():\n",
    "    print(k)"
   ]
  },
  {
   "cell_type": "code",
   "execution_count": null,
   "metadata": {},
   "outputs": [],
   "source": [
    "# Values of Counter\n",
    "for f in c.values():\n",
    "    print(f)"
   ]
  },
  {
   "cell_type": "markdown",
   "metadata": {},
   "source": [
    "**Finally: There is one behavior of defaultdict() and counter() objects that you MUST BE AWARE OF!!**\n",
    "\n",
    "**On the exams, you may use a default dict or counter to formulate your solution, but the auto grader will not pass, even though your solution looks correct.**\n",
    "\n",
    "**Let's take a look at the below code, using the Harry Potter dictionary from above.**"
   ]
  },
  {
   "cell_type": "code",
   "execution_count": null,
   "metadata": {},
   "outputs": [],
   "source": [
    "house_count_dict = defaultdict(int)\n",
    "\n",
    "for character,house in harry_potter_dict.items():\n",
    "        house_count_dict[house] += 1\n",
    "        \n",
    "house_count_dict"
   ]
  },
  {
   "cell_type": "markdown",
   "metadata": {},
   "source": [
    "Note that the data type is a default dict. What about the scenario in which you want to return a dictionary, but you want to use the defaultdict construct to populate it?\n",
    "\n",
    "You must cast the defaultdict to a dictionary **(HINT HINT: You may want to remember this on a future exam!!)**"
   ]
  },
  {
   "cell_type": "code",
   "execution_count": null,
   "metadata": {},
   "outputs": [],
   "source": [
    "house_count_dict = defaultdict(int)\n",
    "\n",
    "for character,house in harry_potter_dict.items():\n",
    "        house_count_dict[house] += 1\n",
    "\n",
    "dict(house_count_dict)"
   ]
  },
  {
   "cell_type": "markdown",
   "metadata": {},
   "source": [
    "**The same holds true for Counter objects.**"
   ]
  },
  {
   "cell_type": "code",
   "execution_count": null,
   "metadata": {},
   "outputs": [],
   "source": [
    "s_count = Counter(s)\n",
    "print(s_count)\n",
    "print(type(s_count))"
   ]
  },
  {
   "cell_type": "markdown",
   "metadata": {},
   "source": [
    "Note that the data type is a counter. What about the scenario in which you want to return a dictionary, but you want to use the counter construct to populate it?\n",
    "\n",
    "You must cast the counter to a dictionary **(HINT HINT AGAIN: You may want to remember this on a future exam!!)**"
   ]
  },
  {
   "cell_type": "code",
   "execution_count": null,
   "metadata": {},
   "outputs": [],
   "source": [
    "s_count = Counter(s)\n",
    "s_count_dict = dict(s_count)  # create a new dictionary from the counter object\n",
    "print(s_count_dict)\n",
    "print(type(s_count_dict))"
   ]
  },
  {
   "cell_type": "markdown",
   "metadata": {
    "slideshow": {
     "slide_type": "slide"
    }
   },
   "source": [
    "## Summary ##\n",
    "\n",
    "1. Default dictionaries help address a common pattern with dictionaries, which is creating a key with a default value when the key does not exist. There are alternatives, too, so keep them in mind.\n",
    "2. The next homework (Notebook 4) will be about floating-point arithmetic. It will help answer some fundamental questions, namely, how do we represent real numbers in a finite (i.e., efficient) way on a computer, and how do we reason about the correctness of programs that manipulate such numbers? We will do introductory video on Wednesday, and then a detailed video next week, on the topics of Notebook 4."
   ]
  }
 ],
 "metadata": {
  "celltoolbar": "Slideshow",
  "kernelspec": {
   "display_name": "Python 3 (ipykernel)",
   "language": "python",
   "name": "python3"
  },
  "language_info": {
   "codemirror_mode": {
    "name": "ipython",
    "version": 3
   },
   "file_extension": ".py",
   "mimetype": "text/x-python",
   "name": "python",
   "nbconvert_exporter": "python",
   "pygments_lexer": "ipython3",
   "version": "3.9.13"
  },
  "toc": {
   "base_numbering": 1,
   "nav_menu": {},
   "number_sections": true,
   "sideBar": true,
   "skip_h1_title": false,
   "title_cell": "Table of Contents",
   "title_sidebar": "Contents",
   "toc_cell": false,
   "toc_position": {},
   "toc_section_display": true,
   "toc_window_display": false
  }
 },
 "nbformat": 4,
 "nbformat_minor": 4
}
