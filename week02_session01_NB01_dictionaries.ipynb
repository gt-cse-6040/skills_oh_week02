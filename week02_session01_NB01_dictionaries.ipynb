{
  "cells": [
    {
      "cell_type": "markdown",
      "metadata": {
        "id": "view-in-github",
        "colab_type": "text"
      },
      "source": [
        "<a href=\"https://colab.research.google.com/github/gt-cse-6040/skills_oh_week_02/blob/main/week02_session01_NB01_dictionaries.ipynb\" target=\"_parent\"><img src=\"https://colab.research.google.com/assets/colab-badge.svg\" alt=\"Open In Colab\"/></a>"
      ]
    },
    {
      "cell_type": "markdown",
      "id": "d0754f96",
      "metadata": {
        "id": "d0754f96"
      },
      "source": [
        "_Main topics covered during today's session:_\n",
        "\n",
        "This NB:\n",
        "\n",
        "1. **Intro to Dictionaries**\n",
        "    \n",
        "    \n",
        "Following NBs:\n",
        "\n",
        "2. **Default Dictionaries and Counter dictionaries**\n",
        "\n",
        "3. **Some example dictionary use cases**\n"
      ]
    },
    {
      "cell_type": "markdown",
      "id": "f94cf4ad",
      "metadata": {
        "id": "f94cf4ad"
      },
      "source": [
        "# Introduction to Dictionaries"
      ]
    },
    {
      "cell_type": "markdown",
      "id": "b9c55387",
      "metadata": {
        "id": "b9c55387"
      },
      "source": [
        "## What are Dictionaries in Python?"
      ]
    },
    {
      "cell_type": "markdown",
      "id": "9db25aa9",
      "metadata": {
        "id": "9db25aa9"
      },
      "source": [
        "Lists are an important data structure which allows us to store a set of values and they are indexed by integers. For example -  "
      ]
    },
    {
      "cell_type": "code",
      "execution_count": null,
      "id": "6dbd70c7",
      "metadata": {
        "id": "6dbd70c7"
      },
      "outputs": [],
      "source": [
        "food_items = [\"apple\" , \"chicken\" , \"eggs\" , \"bread\"]"
      ]
    },
    {
      "cell_type": "markdown",
      "id": "14ba2d5e",
      "metadata": {
        "id": "14ba2d5e"
      },
      "source": [
        "You can access each element of the list by indexing. For example, if you have to get the third item, you can write - "
      ]
    },
    {
      "cell_type": "code",
      "execution_count": null,
      "id": "15b64058",
      "metadata": {
        "id": "15b64058"
      },
      "outputs": [],
      "source": [
        "third_element = food_items[2]"
      ]
    },
    {
      "cell_type": "markdown",
      "id": "6bf80d02",
      "metadata": {
        "id": "6bf80d02"
      },
      "source": [
        "However, sometimes it is necessary to have index which are not integers. Say you have to store a phone book in a computer, it would make sense to have index as Person Name and then store phone number corresponding to each person. Dictionaries allows us to do just that. \n",
        "\n",
        "**So, in summary, a dictionary allows us to store a key,value pair and you have the flexibility to define the type of keys you want. You are not restricted to have integers as the index elements for accessing and addressing (like the way you do in a list)**\n",
        "\n",
        "In many other languages, dictionary data structure is also called a hash table."
      ]
    },
    {
      "cell_type": "markdown",
      "id": "432346d8",
      "metadata": {
        "id": "432346d8"
      },
      "source": [
        "## What Are Python Dictionaries Used for?"
      ]
    },
    {
      "cell_type": "markdown",
      "id": "52768f1a",
      "metadata": {
        "id": "52768f1a"
      },
      "source": [
        "Python dictionaries allow us to associate a value to a unique key, and then to quickly access this value. It’s a good idea to use them whenever we want to find (lookup for) a certain Python object. We can also use lists for this scope, **but they are much slower than dictionaries.**"
      ]
    },
    {
      "cell_type": "code",
      "execution_count": null,
      "id": "2e23a307",
      "metadata": {
        "id": "2e23a307"
      },
      "outputs": [],
      "source": [
        "def find_number_in_list(lst, number):\n",
        "    if number in lst:\n",
        "        return True\n",
        "    else:\n",
        "        return False\n",
        "\n",
        "def find_number_in_dict(dct, number):\n",
        "    if number in dct.keys():\n",
        "        return True\n",
        "    else:\n",
        "        return False\n",
        "\n",
        "short_list = list(range(100))\n",
        "long_list = list(range(10000000))\n",
        "\n",
        "short_dict = {x:x*5 for x in range(1,100)}\n",
        "long_dict = {x:x*5 for x in range(1,10000000)}"
      ]
    },
    {
      "cell_type": "code",
      "execution_count": null,
      "id": "e936c3f7",
      "metadata": {
        "id": "e936c3f7"
      },
      "outputs": [],
      "source": [
        "%timeit find_number_in_list(short_list, 99)"
      ]
    },
    {
      "cell_type": "code",
      "execution_count": null,
      "id": "19e1632c",
      "metadata": {
        "id": "19e1632c"
      },
      "outputs": [],
      "source": [
        "%timeit find_number_in_list(long_list, 9999999)"
      ]
    },
    {
      "cell_type": "code",
      "execution_count": null,
      "id": "d58a9632",
      "metadata": {
        "id": "d58a9632"
      },
      "outputs": [],
      "source": [
        "%timeit find_number_in_dict(short_dict, 99)"
      ]
    },
    {
      "cell_type": "code",
      "execution_count": null,
      "id": "678479e7",
      "metadata": {
        "id": "678479e7"
      },
      "outputs": [],
      "source": [
        "%timeit find_number_in_dict(long_dict, 9999999)"
      ]
    },
    {
      "cell_type": "markdown",
      "id": "56f643e5",
      "metadata": {
        "id": "56f643e5"
      },
      "source": [
        "This is because you have to go through the entire list to get what you want. However, a dictionary will return the value you ask for without going through all keys. \n",
        "\n",
        "**But this keep this in mind - Dictionaries still use more memory than lists, since you need to use space for the keys and the lookup as well, while lists use space only for the values.**"
      ]
    },
    {
      "cell_type": "markdown",
      "id": "228966d2",
      "metadata": {
        "id": "228966d2"
      },
      "source": [
        "## How to Create a Dictionary?"
      ]
    },
    {
      "cell_type": "markdown",
      "id": "f4cc7655",
      "metadata": {
        "id": "f4cc7655"
      },
      "source": [
        "### Method - 1"
      ]
    },
    {
      "cell_type": "code",
      "execution_count": null,
      "id": "f2d357bb",
      "metadata": {
        "id": "f2d357bb"
      },
      "outputs": [],
      "source": [
        "dictionary = {} # Curly braces method\n",
        "another_dictionary = dict() # Dict method\n",
        "\n",
        "# Populate the dictionary\n",
        "dictionary[\"key1\"] = \"value1\"\n",
        "another_dictionary[\"key2\"] = \"value2\""
      ]
    },
    {
      "cell_type": "code",
      "execution_count": null,
      "id": "b1632325",
      "metadata": {
        "id": "b1632325"
      },
      "outputs": [],
      "source": [
        "print(dictionary)\n",
        "print(another_dictionary)"
      ]
    },
    {
      "cell_type": "markdown",
      "id": "bcc57a6f",
      "metadata": {
        "id": "bcc57a6f"
      },
      "source": [
        "### Method - 2"
      ]
    },
    {
      "cell_type": "code",
      "execution_count": null,
      "id": "8555c6bf",
      "metadata": {
        "id": "8555c6bf"
      },
      "outputs": [],
      "source": [
        "# Keyword argument list\n",
        "dictionary = dict(key1=\"value1\", key2=\"value2\")\n",
        "another_dictionary = {\"key1\":\"value1\", \"key2\":\"value2\"}\n",
        "\n",
        "# Display the dictionary\n",
        "print(dictionary)\n",
        "print(another_dictionary)\n",
        "\n",
        "# List of tuples\n",
        "dictionary = dict([(\"key3\", \"value3\"), (\"key4\", \"value4\")])\n",
        "\n",
        "# Display the dictionary\n",
        "print(dictionary)"
      ]
    },
    {
      "cell_type": "code",
      "execution_count": null,
      "id": "85ed04b7",
      "metadata": {
        "id": "85ed04b7"
      },
      "outputs": [],
      "source": [
        "# Dictionary with duplicate keys\n",
        "duplicated_keys = {\"key1\": \"value1\", \"key1\": \"value2\", \"key1\": \"value3\"}\n",
        "\n",
        "# Access key1\n",
        "print(duplicated_keys[\"key1\"])"
      ]
    },
    {
      "cell_type": "code",
      "execution_count": null,
      "id": "bbf174b1",
      "metadata": {
        "id": "bbf174b1"
      },
      "outputs": [],
      "source": [
        "duplicated_keys"
      ]
    },
    {
      "cell_type": "markdown",
      "id": "5cae39e4",
      "metadata": {
        "id": "5cae39e4"
      },
      "source": [
        "## Dictionary Comprehension"
      ]
    },
    {
      "cell_type": "markdown",
      "id": "68e79490",
      "metadata": {
        "id": "68e79490"
      },
      "source": [
        "![Screen%20Shot%202022-09-09%20at%209.17.10%20AM.png](attachment:Screen%20Shot%202022-09-09%20at%209.17.10%20AM.png)"
      ]
    },
    {
      "cell_type": "code",
      "execution_count": null,
      "id": "c40f6c87",
      "metadata": {
        "id": "c40f6c87"
      },
      "outputs": [],
      "source": [
        "import random\n",
        "customers = [\"Alex\",\"Bob\",\"Carol\",\"Dave\",\"Flow\",\"Katie\",\"Nate\"]\n",
        "discount_dict = {customer:random.randint(1,100) for customer in customers}\n",
        "print(discount_dict)"
      ]
    },
    {
      "cell_type": "markdown",
      "id": "e3d85c3a",
      "metadata": {
        "id": "e3d85c3a"
      },
      "source": [
        "### Using two iterables"
      ]
    },
    {
      "cell_type": "markdown",
      "id": "913aff8f",
      "metadata": {
        "id": "913aff8f"
      },
      "source": [
        "![Screen%20Shot%202022-09-09%20at%209.20.39%20AM.png](attachment:Screen%20Shot%202022-09-09%20at%209.20.39%20AM.png)"
      ]
    },
    {
      "cell_type": "code",
      "execution_count": null,
      "id": "b74b995e",
      "metadata": {
        "id": "b74b995e"
      },
      "outputs": [],
      "source": [
        "days = [\"Sunday\", \"Monday\",\"Tuesday\",\"Wednesday\",\"Thursday\",\"Friday\",\"Saturday\"]\n",
        "temp_C = [30.5,32.6,31.8,33.4,29.8,30.2,29.9]"
      ]
    },
    {
      "cell_type": "code",
      "execution_count": null,
      "id": "2db77a51",
      "metadata": {
        "id": "2db77a51"
      },
      "outputs": [],
      "source": [
        "\n",
        "# Creating a dictionary of weekly tempertaures\n",
        "# from the list of temperatures and days\n",
        "# Note that we will cover zip in some detail next week,\n",
        "# when we also discuss the enumerate function\n",
        "\n",
        "weekly_temp = {day:temp for (day,temp) in zip(days,temp_C)}\n",
        "\n",
        "print(weekly_temp)"
      ]
    },
    {
      "cell_type": "markdown",
      "id": "2f31a843",
      "metadata": {
        "id": "2f31a843"
      },
      "source": [
        "Good Links - \n",
        "\n",
        "1. https://realpython.com/python-dicts/\n",
        "2. https://www.programiz.com/python-programming/dictionary-comprehension"
      ]
    },
    {
      "cell_type": "markdown",
      "id": "577113c0",
      "metadata": {
        "id": "577113c0"
      },
      "source": [
        "## Dictionary Methods"
      ]
    },
    {
      "cell_type": "markdown",
      "id": "a1af680d",
      "metadata": {
        "id": "a1af680d"
      },
      "source": [
        "### update()"
      ]
    },
    {
      "cell_type": "code",
      "execution_count": null,
      "id": "dcf7fbcc",
      "metadata": {
        "id": "dcf7fbcc"
      },
      "outputs": [],
      "source": [
        "# Create a Harry Potter dictionary\n",
        "harry_potter_dict = {\n",
        "    \"Harry Potter\": \"Gryffindor\",\n",
        "    \"Ron Weasley\": \"Gryffindor\",\n",
        "    \"Hermione Granger\": \"Gryffindor\"\n",
        "}\n",
        "\n",
        "# Display the dictionary\n",
        "print(harry_potter_dict)"
      ]
    },
    {
      "cell_type": "code",
      "execution_count": null,
      "id": "c67bba81",
      "metadata": {
        "id": "c67bba81"
      },
      "outputs": [],
      "source": [
        "# Characters to add to the Harry Potter dictionary\n",
        "add_characters_1 = {\n",
        "    \"Albus Dumbledore\": \"Gryffindor\",\n",
        "    \"Luna Lovegood\": \"Ravenclaw\"\n",
        "}\n",
        "\n",
        "# Merge dictionaries\n",
        "harry_potter_dict.update(add_characters_1)\n",
        "\n",
        "# Display the dictionary\n",
        "print(harry_potter_dict)"
      ]
    },
    {
      "cell_type": "code",
      "execution_count": null,
      "id": "2d352283",
      "metadata": {
        "id": "2d352283"
      },
      "outputs": [],
      "source": [
        "# Use iterables to update a dictionary\n",
        "add_characters_2 = [\n",
        "    [\"Draco Malfoy\", \"Slytherin\"],\n",
        "    [\"Cedric Diggory\", \"Hufflepuff\"]\n",
        "]\n",
        "harry_potter_dict.update(add_characters_2)\n",
        "\n",
        "print(harry_potter_dict)"
      ]
    },
    {
      "cell_type": "code",
      "execution_count": null,
      "id": "3b4ffb5f",
      "metadata": {
        "id": "3b4ffb5f"
      },
      "outputs": [],
      "source": [
        "# Use iterables to update a dictionary\n",
        "add_characters_3 = [\n",
        "    (\"Rubeus Hagrid\", \"Gryffindor\"),\n",
        "    (\"Minerva McGonagall\", \"Gryffindor\")\n",
        "]\n",
        "harry_potter_dict.update(add_characters_3)\n",
        "\n",
        "print(harry_potter_dict)"
      ]
    },
    {
      "cell_type": "markdown",
      "id": "709620ce",
      "metadata": {
        "id": "709620ce"
      },
      "source": [
        "### del"
      ]
    },
    {
      "cell_type": "code",
      "execution_count": null,
      "id": "1b60e26b",
      "metadata": {
        "id": "1b60e26b"
      },
      "outputs": [],
      "source": [
        "# Delete a key:value pair\n",
        "del harry_potter_dict[\"Minerva McGonagall\"]\n",
        "\n",
        "print(harry_potter_dict)"
      ]
    },
    {
      "cell_type": "code",
      "execution_count": null,
      "id": "bf1a264d",
      "metadata": {
        "id": "bf1a264d"
      },
      "outputs": [],
      "source": [
        "# Delete a key:value pair that doesn't exist in the dictionary\n",
        "# This code errors out, uncomment to see the error\n",
        "# del harry_potter_dict[\"Voldemort\"]"
      ]
    },
    {
      "cell_type": "markdown",
      "id": "e2b2f33f",
      "metadata": {
        "id": "e2b2f33f"
      },
      "source": [
        "### keys(), values() , items()"
      ]
    },
    {
      "cell_type": "code",
      "execution_count": null,
      "id": "3be0e499",
      "metadata": {
        "id": "3be0e499"
      },
      "outputs": [],
      "source": [
        "print(harry_potter_dict.items())"
      ]
    },
    {
      "cell_type": "code",
      "execution_count": null,
      "id": "eaf9657f",
      "metadata": {
        "id": "eaf9657f"
      },
      "outputs": [],
      "source": [
        "print(harry_potter_dict.keys())"
      ]
    },
    {
      "cell_type": "code",
      "execution_count": null,
      "id": "1a901dc1",
      "metadata": {
        "id": "1a901dc1"
      },
      "outputs": [],
      "source": [
        "print(harry_potter_dict.values())"
      ]
    },
    {
      "cell_type": "markdown",
      "id": "125cfd8b",
      "metadata": {
        "id": "125cfd8b"
      },
      "source": [
        "## Looping Through a Dictionary"
      ]
    },
    {
      "cell_type": "code",
      "execution_count": null,
      "id": "2e62d3c8",
      "metadata": {
        "id": "2e62d3c8"
      },
      "outputs": [],
      "source": [
        "for key, value in harry_potter_dict.items():\n",
        "    print((key, value))"
      ]
    },
    {
      "cell_type": "code",
      "execution_count": null,
      "id": "6caeb710",
      "metadata": {
        "id": "6caeb710"
      },
      "outputs": [],
      "source": [
        "# Alternatively\n",
        "for key_value in harry_potter_dict.items():\n",
        "    print(key_value)"
      ]
    },
    {
      "cell_type": "code",
      "execution_count": null,
      "id": "91970bfe",
      "metadata": {
        "id": "91970bfe"
      },
      "outputs": [],
      "source": [
        "for key, value in harry_potter_dict.items():\n",
        "    print(f\"The current key is {key} and its value is {value}.\")"
      ]
    },
    {
      "cell_type": "code",
      "execution_count": null,
      "id": "c44a8b37",
      "metadata": {
        "id": "c44a8b37"
      },
      "outputs": [],
      "source": [
        "# Loop only through the keys\n",
        "for key in harry_potter_dict.keys():\n",
        "    print(key)"
      ]
    },
    {
      "cell_type": "code",
      "execution_count": null,
      "id": "7de1f961",
      "metadata": {
        "id": "7de1f961"
      },
      "outputs": [],
      "source": [
        "# Loop only through the values\n",
        "for value in harry_potter_dict.values():\n",
        "    print(value)"
      ]
    }
  ],
  "metadata": {
    "kernelspec": {
      "display_name": "Python 3 (ipykernel)",
      "language": "python",
      "name": "python3"
    },
    "language_info": {
      "codemirror_mode": {
        "name": "ipython",
        "version": 3
      },
      "file_extension": ".py",
      "mimetype": "text/x-python",
      "name": "python",
      "nbconvert_exporter": "python",
      "pygments_lexer": "ipython3",
      "version": "3.9.13"
    },
    "colab": {
      "provenance": [],
      "include_colab_link": true
    }
  },
  "nbformat": 4,
  "nbformat_minor": 5
}